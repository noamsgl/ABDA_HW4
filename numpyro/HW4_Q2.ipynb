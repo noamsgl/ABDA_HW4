{
 "cells": [
  {
   "cell_type": "code",
   "execution_count": 19,
   "metadata": {
    "collapsed": true
   },
   "outputs": [],
   "source": [
    "import numpy as np\r\n",
    "import numpyro\r\n",
    "import numpyro.distributions as dist\r\n",
    "import pandas as pd\r\n",
    "import seaborn as sns\r\n",
    "from jax import random\r\n",
    "from numpyro.infer import MCMC, NUTS\r\n",
    "import jax.numpy as jnp\r\n"
   ]
  },
  {
   "cell_type": "code",
   "execution_count": 20,
   "metadata": {},
   "outputs": [],
   "source": [
    "# common functions\n",
    "sigmoid = lambda x: 1 / (1 + jnp.exp(-x))"
   ]
  },
  {
   "source": [
    "# Problem 2: Reed Frogs\n",
    "\n",
    "The common reed frog is a species of frogs found naturally in many parts of Africa. \n",
    "\n",
    "In this assignment, we check, evaluate and compare three models which rely on tank density, frog size and predation to predict frog survivability. ![common Reed Frog](https://upload.wikimedia.org/wikipedia/commons/3/36/Tree_frog_congo.jpg)\t"
   ],
   "cell_type": "markdown",
   "metadata": {
    "collapsed": false,
    "pycharm": {
     "name": "#%%\n"
    }
   }
  },
  {
   "cell_type": "code",
   "execution_count": 21,
   "outputs": [],
   "source": [
    "df = pd.read_csv('../input/04reedfrogs.csv')\n"
   ],
   "metadata": {
    "collapsed": false,
    "pycharm": {
     "name": "#%%\n"
    }
   }
  },
  {
   "cell_type": "code",
   "execution_count": 22,
   "metadata": {},
   "outputs": [
    {
     "output_type": "execute_result",
     "data": {
      "text/plain": [
       "   density  pred   size  surv  propsurv  cdensity  cpred  csize\n",
       "0       10    no    big     9       0.9         0      0      0\n",
       "1       10    no    big    10       1.0         0      0      0\n",
       "2       10    no    big     7       0.7         0      0      0\n",
       "3       10    no    big    10       1.0         0      0      0\n",
       "4       10    no  small     9       0.9         0      0      1\n",
       "5       10    no  small     9       0.9         0      0      1\n",
       "6       10    no  small    10       1.0         0      0      1\n",
       "7       10    no  small     9       0.9         0      0      1\n",
       "8       10  pred    big     4       0.4         0      1      0\n",
       "9       10  pred    big     9       0.9         0      1      0"
      ],
      "text/html": "<div>\n<style scoped>\n    .dataframe tbody tr th:only-of-type {\n        vertical-align: middle;\n    }\n\n    .dataframe tbody tr th {\n        vertical-align: top;\n    }\n\n    .dataframe thead th {\n        text-align: right;\n    }\n</style>\n<table border=\"1\" class=\"dataframe\">\n  <thead>\n    <tr style=\"text-align: right;\">\n      <th></th>\n      <th>density</th>\n      <th>pred</th>\n      <th>size</th>\n      <th>surv</th>\n      <th>propsurv</th>\n      <th>cdensity</th>\n      <th>cpred</th>\n      <th>csize</th>\n    </tr>\n  </thead>\n  <tbody>\n    <tr>\n      <th>0</th>\n      <td>10</td>\n      <td>no</td>\n      <td>big</td>\n      <td>9</td>\n      <td>0.9</td>\n      <td>0</td>\n      <td>0</td>\n      <td>0</td>\n    </tr>\n    <tr>\n      <th>1</th>\n      <td>10</td>\n      <td>no</td>\n      <td>big</td>\n      <td>10</td>\n      <td>1.0</td>\n      <td>0</td>\n      <td>0</td>\n      <td>0</td>\n    </tr>\n    <tr>\n      <th>2</th>\n      <td>10</td>\n      <td>no</td>\n      <td>big</td>\n      <td>7</td>\n      <td>0.7</td>\n      <td>0</td>\n      <td>0</td>\n      <td>0</td>\n    </tr>\n    <tr>\n      <th>3</th>\n      <td>10</td>\n      <td>no</td>\n      <td>big</td>\n      <td>10</td>\n      <td>1.0</td>\n      <td>0</td>\n      <td>0</td>\n      <td>0</td>\n    </tr>\n    <tr>\n      <th>4</th>\n      <td>10</td>\n      <td>no</td>\n      <td>small</td>\n      <td>9</td>\n      <td>0.9</td>\n      <td>0</td>\n      <td>0</td>\n      <td>1</td>\n    </tr>\n    <tr>\n      <th>5</th>\n      <td>10</td>\n      <td>no</td>\n      <td>small</td>\n      <td>9</td>\n      <td>0.9</td>\n      <td>0</td>\n      <td>0</td>\n      <td>1</td>\n    </tr>\n    <tr>\n      <th>6</th>\n      <td>10</td>\n      <td>no</td>\n      <td>small</td>\n      <td>10</td>\n      <td>1.0</td>\n      <td>0</td>\n      <td>0</td>\n      <td>1</td>\n    </tr>\n    <tr>\n      <th>7</th>\n      <td>10</td>\n      <td>no</td>\n      <td>small</td>\n      <td>9</td>\n      <td>0.9</td>\n      <td>0</td>\n      <td>0</td>\n      <td>1</td>\n    </tr>\n    <tr>\n      <th>8</th>\n      <td>10</td>\n      <td>pred</td>\n      <td>big</td>\n      <td>4</td>\n      <td>0.4</td>\n      <td>0</td>\n      <td>1</td>\n      <td>0</td>\n    </tr>\n    <tr>\n      <th>9</th>\n      <td>10</td>\n      <td>pred</td>\n      <td>big</td>\n      <td>9</td>\n      <td>0.9</td>\n      <td>0</td>\n      <td>1</td>\n      <td>0</td>\n    </tr>\n  </tbody>\n</table>\n</div>"
     },
     "metadata": {},
     "execution_count": 22
    }
   ],
   "source": [
    "# categorize values\n",
    "df[\"cdensity\"] = pd.factorize(df.density)[0]\n",
    "df[\"cpred\"] = pd.factorize(df.pred)[0]\n",
    "df[\"csize\"] = pd.factorize(df[\"size\"])[0]\n",
    "df.head(10)"
   ]
  },
  {
   "source": [
    "## Effect of Predation\n",
    "It is easily visible that predation has a large effect on the frogs' survivability:"
   ],
   "cell_type": "markdown",
   "metadata": {}
  },
  {
   "cell_type": "code",
   "execution_count": 23,
   "metadata": {},
   "outputs": [
    {
     "output_type": "display_data",
     "data": {
      "text/plain": "<Figure size 432x288 with 1 Axes>",
      "image/svg+xml": "<?xml version=\"1.0\" encoding=\"utf-8\" standalone=\"no\"?>\n<!DOCTYPE svg PUBLIC \"-//W3C//DTD SVG 1.1//EN\"\n  \"http://www.w3.org/Graphics/SVG/1.1/DTD/svg11.dtd\">\n<svg height=\"262.19625pt\" version=\"1.1\" viewBox=\"0 0 376.240625 262.19625\" width=\"376.240625pt\" xmlns=\"http://www.w3.org/2000/svg\" xmlns:xlink=\"http://www.w3.org/1999/xlink\">\n <metadata>\n  <rdf:RDF xmlns:cc=\"http://creativecommons.org/ns#\" xmlns:dc=\"http://purl.org/dc/elements/1.1/\" xmlns:rdf=\"http://www.w3.org/1999/02/22-rdf-syntax-ns#\">\n   <cc:Work>\n    <dc:type rdf:resource=\"http://purl.org/dc/dcmitype/StillImage\"/>\n    <dc:date>2021-07-18T16:43:42.022642</dc:date>\n    <dc:format>image/svg+xml</dc:format>\n    <dc:creator>\n     <cc:Agent>\n      <dc:title>Matplotlib v3.4.2, https://matplotlib.org/</dc:title>\n     </cc:Agent>\n    </dc:creator>\n   </cc:Work>\n  </rdf:RDF>\n </metadata>\n <defs>\n  <style type=\"text/css\">*{stroke-linecap:butt;stroke-linejoin:round;}</style>\n </defs>\n <g id=\"figure_1\">\n  <g id=\"patch_1\">\n   <path d=\"M 0 262.19625 \nL 376.240625 262.19625 \nL 376.240625 0 \nL 0 0 \nz\n\" style=\"fill:none;\"/>\n  </g>\n  <g id=\"axes_1\">\n   <g id=\"patch_2\">\n    <path d=\"M 34.240625 224.64 \nL 369.040625 224.64 \nL 369.040625 7.2 \nL 34.240625 7.2 \nz\n\" style=\"fill:#ffffff;\"/>\n   </g>\n   <g id=\"patch_3\">\n    <path clip-path=\"url(#pe06a2dd47a)\" d=\"M 49.458807 224.64 \nL 59.604261 224.64 \nL 59.604261 190.125714 \nL 49.458807 190.125714 \nz\n\" style=\"fill:#ff7f0e;fill-opacity:0.5;stroke:#000000;stroke-linejoin:miter;\"/>\n   </g>\n   <g id=\"patch_4\">\n    <path clip-path=\"url(#pe06a2dd47a)\" d=\"M 59.604261 224.64 \nL 69.749716 224.64 \nL 69.749716 190.125714 \nL 59.604261 190.125714 \nz\n\" style=\"fill:#ff7f0e;fill-opacity:0.5;stroke:#000000;stroke-linejoin:miter;\"/>\n   </g>\n   <g id=\"patch_5\">\n    <path clip-path=\"url(#pe06a2dd47a)\" d=\"M 69.749716 224.64 \nL 79.89517 224.64 \nL 79.89517 224.64 \nL 69.749716 224.64 \nz\n\" style=\"fill:#ff7f0e;fill-opacity:0.5;stroke:#000000;stroke-linejoin:miter;\"/>\n   </g>\n   <g id=\"patch_6\">\n    <path clip-path=\"url(#pe06a2dd47a)\" d=\"M 79.89517 224.64 \nL 90.040625 224.64 \nL 90.040625 224.64 \nL 79.89517 224.64 \nz\n\" style=\"fill:#ff7f0e;fill-opacity:0.5;stroke:#000000;stroke-linejoin:miter;\"/>\n   </g>\n   <g id=\"patch_7\">\n    <path clip-path=\"url(#pe06a2dd47a)\" d=\"M 90.040625 224.64 \nL 100.18608 224.64 \nL 100.18608 190.125714 \nL 90.040625 190.125714 \nz\n\" style=\"fill:#ff7f0e;fill-opacity:0.5;stroke:#000000;stroke-linejoin:miter;\"/>\n   </g>\n   <g id=\"patch_8\">\n    <path clip-path=\"url(#pe06a2dd47a)\" d=\"M 100.18608 224.64 \nL 110.331534 224.64 \nL 110.331534 224.64 \nL 100.18608 224.64 \nz\n\" style=\"fill:#ff7f0e;fill-opacity:0.5;stroke:#000000;stroke-linejoin:miter;\"/>\n   </g>\n   <g id=\"patch_9\">\n    <path clip-path=\"url(#pe06a2dd47a)\" d=\"M 110.331534 224.64 \nL 120.476989 224.64 \nL 120.476989 190.125714 \nL 110.331534 190.125714 \nz\n\" style=\"fill:#ff7f0e;fill-opacity:0.5;stroke:#000000;stroke-linejoin:miter;\"/>\n   </g>\n   <g id=\"patch_10\">\n    <path clip-path=\"url(#pe06a2dd47a)\" d=\"M 120.476989 224.64 \nL 130.622443 224.64 \nL 130.622443 155.611429 \nL 120.476989 155.611429 \nz\n\" style=\"fill:#ff7f0e;fill-opacity:0.5;stroke:#000000;stroke-linejoin:miter;\"/>\n   </g>\n   <g id=\"patch_11\">\n    <path clip-path=\"url(#pe06a2dd47a)\" d=\"M 130.622443 224.64 \nL 140.767898 224.64 \nL 140.767898 155.611429 \nL 130.622443 155.611429 \nz\n\" style=\"fill:#ff7f0e;fill-opacity:0.5;stroke:#000000;stroke-linejoin:miter;\"/>\n   </g>\n   <g id=\"patch_12\">\n    <path clip-path=\"url(#pe06a2dd47a)\" d=\"M 140.767898 224.64 \nL 150.913352 224.64 \nL 150.913352 121.097143 \nL 140.767898 121.097143 \nz\n\" style=\"fill:#ff7f0e;fill-opacity:0.5;stroke:#000000;stroke-linejoin:miter;\"/>\n   </g>\n   <g id=\"patch_13\">\n    <path clip-path=\"url(#pe06a2dd47a)\" d=\"M 150.913352 224.64 \nL 161.058807 224.64 \nL 161.058807 224.64 \nL 150.913352 224.64 \nz\n\" style=\"fill:#ff7f0e;fill-opacity:0.5;stroke:#000000;stroke-linejoin:miter;\"/>\n   </g>\n   <g id=\"patch_14\">\n    <path clip-path=\"url(#pe06a2dd47a)\" d=\"M 161.058807 224.64 \nL 171.204261 224.64 \nL 171.204261 224.64 \nL 161.058807 224.64 \nz\n\" style=\"fill:#ff7f0e;fill-opacity:0.5;stroke:#000000;stroke-linejoin:miter;\"/>\n   </g>\n   <g id=\"patch_15\">\n    <path clip-path=\"url(#pe06a2dd47a)\" d=\"M 171.204261 224.64 \nL 181.349716 224.64 \nL 181.349716 190.125714 \nL 171.204261 190.125714 \nz\n\" style=\"fill:#ff7f0e;fill-opacity:0.5;stroke:#000000;stroke-linejoin:miter;\"/>\n   </g>\n   <g id=\"patch_16\">\n    <path clip-path=\"url(#pe06a2dd47a)\" d=\"M 181.349716 224.64 \nL 191.49517 224.64 \nL 191.49517 121.097143 \nL 181.349716 121.097143 \nz\n\" style=\"fill:#ff7f0e;fill-opacity:0.5;stroke:#000000;stroke-linejoin:miter;\"/>\n   </g>\n   <g id=\"patch_17\">\n    <path clip-path=\"url(#pe06a2dd47a)\" d=\"M 191.49517 224.64 \nL 201.640625 224.64 \nL 201.640625 224.64 \nL 191.49517 224.64 \nz\n\" style=\"fill:#ff7f0e;fill-opacity:0.5;stroke:#000000;stroke-linejoin:miter;\"/>\n   </g>\n   <g id=\"patch_18\">\n    <path clip-path=\"url(#pe06a2dd47a)\" d=\"M 201.640625 224.64 \nL 211.78608 224.64 \nL 211.78608 224.64 \nL 201.640625 224.64 \nz\n\" style=\"fill:#ff7f0e;fill-opacity:0.5;stroke:#000000;stroke-linejoin:miter;\"/>\n   </g>\n   <g id=\"patch_19\">\n    <path clip-path=\"url(#pe06a2dd47a)\" d=\"M 211.78608 224.64 \nL 221.931534 224.64 \nL 221.931534 190.125714 \nL 211.78608 190.125714 \nz\n\" style=\"fill:#ff7f0e;fill-opacity:0.5;stroke:#000000;stroke-linejoin:miter;\"/>\n   </g>\n   <g id=\"patch_20\">\n    <path clip-path=\"url(#pe06a2dd47a)\" d=\"M 221.931534 224.64 \nL 232.076989 224.64 \nL 232.076989 190.125714 \nL 221.931534 190.125714 \nz\n\" style=\"fill:#ff7f0e;fill-opacity:0.5;stroke:#000000;stroke-linejoin:miter;\"/>\n   </g>\n   <g id=\"patch_21\">\n    <path clip-path=\"url(#pe06a2dd47a)\" d=\"M 232.076989 224.64 \nL 242.222443 224.64 \nL 242.222443 224.64 \nL 232.076989 224.64 \nz\n\" style=\"fill:#ff7f0e;fill-opacity:0.5;stroke:#000000;stroke-linejoin:miter;\"/>\n   </g>\n   <g id=\"patch_22\">\n    <path clip-path=\"url(#pe06a2dd47a)\" d=\"M 242.222443 224.64 \nL 252.367898 224.64 \nL 252.367898 155.611429 \nL 242.222443 155.611429 \nz\n\" style=\"fill:#ff7f0e;fill-opacity:0.5;stroke:#000000;stroke-linejoin:miter;\"/>\n   </g>\n   <g id=\"patch_23\">\n    <path clip-path=\"url(#pe06a2dd47a)\" d=\"M 252.367898 224.64 \nL 262.513352 224.64 \nL 262.513352 224.64 \nL 252.367898 224.64 \nz\n\" style=\"fill:#ff7f0e;fill-opacity:0.5;stroke:#000000;stroke-linejoin:miter;\"/>\n   </g>\n   <g id=\"patch_24\">\n    <path clip-path=\"url(#pe06a2dd47a)\" d=\"M 262.513352 224.64 \nL 272.658807 224.64 \nL 272.658807 224.64 \nL 262.513352 224.64 \nz\n\" style=\"fill:#ff7f0e;fill-opacity:0.5;stroke:#000000;stroke-linejoin:miter;\"/>\n   </g>\n   <g id=\"patch_25\">\n    <path clip-path=\"url(#pe06a2dd47a)\" d=\"M 272.658807 224.64 \nL 282.804261 224.64 \nL 282.804261 224.64 \nL 272.658807 224.64 \nz\n\" style=\"fill:#ff7f0e;fill-opacity:0.5;stroke:#000000;stroke-linejoin:miter;\"/>\n   </g>\n   <g id=\"patch_26\">\n    <path clip-path=\"url(#pe06a2dd47a)\" d=\"M 282.804261 224.64 \nL 292.949716 224.64 \nL 292.949716 190.125714 \nL 282.804261 190.125714 \nz\n\" style=\"fill:#ff7f0e;fill-opacity:0.5;stroke:#000000;stroke-linejoin:miter;\"/>\n   </g>\n   <g id=\"patch_27\">\n    <path clip-path=\"url(#pe06a2dd47a)\" d=\"M 292.949716 224.64 \nL 303.09517 224.64 \nL 303.09517 224.64 \nL 292.949716 224.64 \nz\n\" style=\"fill:#ff7f0e;fill-opacity:0.5;stroke:#000000;stroke-linejoin:miter;\"/>\n   </g>\n   <g id=\"patch_28\">\n    <path clip-path=\"url(#pe06a2dd47a)\" d=\"M 303.09517 224.64 \nL 313.240625 224.64 \nL 313.240625 224.64 \nL 303.09517 224.64 \nz\n\" style=\"fill:#ff7f0e;fill-opacity:0.5;stroke:#000000;stroke-linejoin:miter;\"/>\n   </g>\n   <g id=\"patch_29\">\n    <path clip-path=\"url(#pe06a2dd47a)\" d=\"M 313.240625 224.64 \nL 323.38608 224.64 \nL 323.38608 86.582857 \nL 313.240625 86.582857 \nz\n\" style=\"fill:#ff7f0e;fill-opacity:0.5;stroke:#000000;stroke-linejoin:miter;\"/>\n   </g>\n   <g id=\"patch_30\">\n    <path clip-path=\"url(#pe06a2dd47a)\" d=\"M 323.38608 224.64 \nL 333.531534 224.64 \nL 333.531534 224.64 \nL 323.38608 224.64 \nz\n\" style=\"fill:#ff7f0e;fill-opacity:0.5;stroke:#000000;stroke-linejoin:miter;\"/>\n   </g>\n   <g id=\"patch_31\">\n    <path clip-path=\"url(#pe06a2dd47a)\" d=\"M 333.531534 224.64 \nL 343.676989 224.64 \nL 343.676989 224.64 \nL 333.531534 224.64 \nz\n\" style=\"fill:#ff7f0e;fill-opacity:0.5;stroke:#000000;stroke-linejoin:miter;\"/>\n   </g>\n   <g id=\"patch_32\">\n    <path clip-path=\"url(#pe06a2dd47a)\" d=\"M 343.676989 224.64 \nL 353.822443 224.64 \nL 353.822443 224.64 \nL 343.676989 224.64 \nz\n\" style=\"fill:#ff7f0e;fill-opacity:0.5;stroke:#000000;stroke-linejoin:miter;\"/>\n   </g>\n   <g id=\"patch_33\">\n    <path clip-path=\"url(#pe06a2dd47a)\" d=\"M 49.458807 224.64 \nL 59.604261 224.64 \nL 59.604261 224.64 \nL 49.458807 224.64 \nz\n\" style=\"fill:#1f77b4;fill-opacity:0.5;stroke:#000000;stroke-linejoin:miter;\"/>\n   </g>\n   <g id=\"patch_34\">\n    <path clip-path=\"url(#pe06a2dd47a)\" d=\"M 59.604261 224.64 \nL 69.749716 224.64 \nL 69.749716 224.64 \nL 59.604261 224.64 \nz\n\" style=\"fill:#1f77b4;fill-opacity:0.5;stroke:#000000;stroke-linejoin:miter;\"/>\n   </g>\n   <g id=\"patch_35\">\n    <path clip-path=\"url(#pe06a2dd47a)\" d=\"M 69.749716 224.64 \nL 79.89517 224.64 \nL 79.89517 224.64 \nL 69.749716 224.64 \nz\n\" style=\"fill:#1f77b4;fill-opacity:0.5;stroke:#000000;stroke-linejoin:miter;\"/>\n   </g>\n   <g id=\"patch_36\">\n    <path clip-path=\"url(#pe06a2dd47a)\" d=\"M 79.89517 224.64 \nL 90.040625 224.64 \nL 90.040625 224.64 \nL 79.89517 224.64 \nz\n\" style=\"fill:#1f77b4;fill-opacity:0.5;stroke:#000000;stroke-linejoin:miter;\"/>\n   </g>\n   <g id=\"patch_37\">\n    <path clip-path=\"url(#pe06a2dd47a)\" d=\"M 90.040625 224.64 \nL 100.18608 224.64 \nL 100.18608 224.64 \nL 90.040625 224.64 \nz\n\" style=\"fill:#1f77b4;fill-opacity:0.5;stroke:#000000;stroke-linejoin:miter;\"/>\n   </g>\n   <g id=\"patch_38\">\n    <path clip-path=\"url(#pe06a2dd47a)\" d=\"M 100.18608 224.64 \nL 110.331534 224.64 \nL 110.331534 224.64 \nL 100.18608 224.64 \nz\n\" style=\"fill:#1f77b4;fill-opacity:0.5;stroke:#000000;stroke-linejoin:miter;\"/>\n   </g>\n   <g id=\"patch_39\">\n    <path clip-path=\"url(#pe06a2dd47a)\" d=\"M 110.331534 224.64 \nL 120.476989 224.64 \nL 120.476989 224.64 \nL 110.331534 224.64 \nz\n\" style=\"fill:#1f77b4;fill-opacity:0.5;stroke:#000000;stroke-linejoin:miter;\"/>\n   </g>\n   <g id=\"patch_40\">\n    <path clip-path=\"url(#pe06a2dd47a)\" d=\"M 120.476989 224.64 \nL 130.622443 224.64 \nL 130.622443 224.64 \nL 120.476989 224.64 \nz\n\" style=\"fill:#1f77b4;fill-opacity:0.5;stroke:#000000;stroke-linejoin:miter;\"/>\n   </g>\n   <g id=\"patch_41\">\n    <path clip-path=\"url(#pe06a2dd47a)\" d=\"M 130.622443 224.64 \nL 140.767898 224.64 \nL 140.767898 224.64 \nL 130.622443 224.64 \nz\n\" style=\"fill:#1f77b4;fill-opacity:0.5;stroke:#000000;stroke-linejoin:miter;\"/>\n   </g>\n   <g id=\"patch_42\">\n    <path clip-path=\"url(#pe06a2dd47a)\" d=\"M 140.767898 224.64 \nL 150.913352 224.64 \nL 150.913352 224.64 \nL 140.767898 224.64 \nz\n\" style=\"fill:#1f77b4;fill-opacity:0.5;stroke:#000000;stroke-linejoin:miter;\"/>\n   </g>\n   <g id=\"patch_43\">\n    <path clip-path=\"url(#pe06a2dd47a)\" d=\"M 150.913352 224.64 \nL 161.058807 224.64 \nL 161.058807 224.64 \nL 150.913352 224.64 \nz\n\" style=\"fill:#1f77b4;fill-opacity:0.5;stroke:#000000;stroke-linejoin:miter;\"/>\n   </g>\n   <g id=\"patch_44\">\n    <path clip-path=\"url(#pe06a2dd47a)\" d=\"M 161.058807 224.64 \nL 171.204261 224.64 \nL 171.204261 224.64 \nL 161.058807 224.64 \nz\n\" style=\"fill:#1f77b4;fill-opacity:0.5;stroke:#000000;stroke-linejoin:miter;\"/>\n   </g>\n   <g id=\"patch_45\">\n    <path clip-path=\"url(#pe06a2dd47a)\" d=\"M 171.204261 224.64 \nL 181.349716 224.64 \nL 181.349716 224.64 \nL 171.204261 224.64 \nz\n\" style=\"fill:#1f77b4;fill-opacity:0.5;stroke:#000000;stroke-linejoin:miter;\"/>\n   </g>\n   <g id=\"patch_46\">\n    <path clip-path=\"url(#pe06a2dd47a)\" d=\"M 181.349716 224.64 \nL 191.49517 224.64 \nL 191.49517 224.64 \nL 181.349716 224.64 \nz\n\" style=\"fill:#1f77b4;fill-opacity:0.5;stroke:#000000;stroke-linejoin:miter;\"/>\n   </g>\n   <g id=\"patch_47\">\n    <path clip-path=\"url(#pe06a2dd47a)\" d=\"M 191.49517 224.64 \nL 201.640625 224.64 \nL 201.640625 224.64 \nL 191.49517 224.64 \nz\n\" style=\"fill:#1f77b4;fill-opacity:0.5;stroke:#000000;stroke-linejoin:miter;\"/>\n   </g>\n   <g id=\"patch_48\">\n    <path clip-path=\"url(#pe06a2dd47a)\" d=\"M 201.640625 224.64 \nL 211.78608 224.64 \nL 211.78608 224.64 \nL 201.640625 224.64 \nz\n\" style=\"fill:#1f77b4;fill-opacity:0.5;stroke:#000000;stroke-linejoin:miter;\"/>\n   </g>\n   <g id=\"patch_49\">\n    <path clip-path=\"url(#pe06a2dd47a)\" d=\"M 211.78608 224.64 \nL 221.931534 224.64 \nL 221.931534 224.64 \nL 211.78608 224.64 \nz\n\" style=\"fill:#1f77b4;fill-opacity:0.5;stroke:#000000;stroke-linejoin:miter;\"/>\n   </g>\n   <g id=\"patch_50\">\n    <path clip-path=\"url(#pe06a2dd47a)\" d=\"M 221.931534 224.64 \nL 232.076989 224.64 \nL 232.076989 224.64 \nL 221.931534 224.64 \nz\n\" style=\"fill:#1f77b4;fill-opacity:0.5;stroke:#000000;stroke-linejoin:miter;\"/>\n   </g>\n   <g id=\"patch_51\">\n    <path clip-path=\"url(#pe06a2dd47a)\" d=\"M 232.076989 224.64 \nL 242.222443 224.64 \nL 242.222443 224.64 \nL 232.076989 224.64 \nz\n\" style=\"fill:#1f77b4;fill-opacity:0.5;stroke:#000000;stroke-linejoin:miter;\"/>\n   </g>\n   <g id=\"patch_52\">\n    <path clip-path=\"url(#pe06a2dd47a)\" d=\"M 242.222443 224.64 \nL 252.367898 224.64 \nL 252.367898 190.125714 \nL 242.222443 190.125714 \nz\n\" style=\"fill:#1f77b4;fill-opacity:0.5;stroke:#000000;stroke-linejoin:miter;\"/>\n   </g>\n   <g id=\"patch_53\">\n    <path clip-path=\"url(#pe06a2dd47a)\" d=\"M 252.367898 224.64 \nL 262.513352 224.64 \nL 262.513352 224.64 \nL 252.367898 224.64 \nz\n\" style=\"fill:#1f77b4;fill-opacity:0.5;stroke:#000000;stroke-linejoin:miter;\"/>\n   </g>\n   <g id=\"patch_54\">\n    <path clip-path=\"url(#pe06a2dd47a)\" d=\"M 262.513352 224.64 \nL 272.658807 224.64 \nL 272.658807 224.64 \nL 262.513352 224.64 \nz\n\" style=\"fill:#1f77b4;fill-opacity:0.5;stroke:#000000;stroke-linejoin:miter;\"/>\n   </g>\n   <g id=\"patch_55\">\n    <path clip-path=\"url(#pe06a2dd47a)\" d=\"M 272.658807 224.64 \nL 282.804261 224.64 \nL 282.804261 224.64 \nL 272.658807 224.64 \nz\n\" style=\"fill:#1f77b4;fill-opacity:0.5;stroke:#000000;stroke-linejoin:miter;\"/>\n   </g>\n   <g id=\"patch_56\">\n    <path clip-path=\"url(#pe06a2dd47a)\" d=\"M 282.804261 224.64 \nL 292.949716 224.64 \nL 292.949716 224.64 \nL 282.804261 224.64 \nz\n\" style=\"fill:#1f77b4;fill-opacity:0.5;stroke:#000000;stroke-linejoin:miter;\"/>\n   </g>\n   <g id=\"patch_57\">\n    <path clip-path=\"url(#pe06a2dd47a)\" d=\"M 292.949716 224.64 \nL 303.09517 224.64 \nL 303.09517 190.125714 \nL 292.949716 190.125714 \nz\n\" style=\"fill:#1f77b4;fill-opacity:0.5;stroke:#000000;stroke-linejoin:miter;\"/>\n   </g>\n   <g id=\"patch_58\">\n    <path clip-path=\"url(#pe06a2dd47a)\" d=\"M 303.09517 224.64 \nL 313.240625 224.64 \nL 313.240625 190.125714 \nL 303.09517 190.125714 \nz\n\" style=\"fill:#1f77b4;fill-opacity:0.5;stroke:#000000;stroke-linejoin:miter;\"/>\n   </g>\n   <g id=\"patch_59\">\n    <path clip-path=\"url(#pe06a2dd47a)\" d=\"M 313.240625 224.64 \nL 323.38608 224.64 \nL 323.38608 17.554286 \nL 313.240625 17.554286 \nz\n\" style=\"fill:#1f77b4;fill-opacity:0.5;stroke:#000000;stroke-linejoin:miter;\"/>\n   </g>\n   <g id=\"patch_60\">\n    <path clip-path=\"url(#pe06a2dd47a)\" d=\"M 323.38608 224.64 \nL 333.531534 224.64 \nL 333.531534 52.068571 \nL 323.38608 52.068571 \nz\n\" style=\"fill:#1f77b4;fill-opacity:0.5;stroke:#000000;stroke-linejoin:miter;\"/>\n   </g>\n   <g id=\"patch_61\">\n    <path clip-path=\"url(#pe06a2dd47a)\" d=\"M 333.531534 224.64 \nL 343.676989 224.64 \nL 343.676989 86.582857 \nL 333.531534 86.582857 \nz\n\" style=\"fill:#1f77b4;fill-opacity:0.5;stroke:#000000;stroke-linejoin:miter;\"/>\n   </g>\n   <g id=\"patch_62\">\n    <path clip-path=\"url(#pe06a2dd47a)\" d=\"M 343.676989 224.64 \nL 353.822443 224.64 \nL 353.822443 17.554286 \nL 343.676989 17.554286 \nz\n\" style=\"fill:#1f77b4;fill-opacity:0.5;stroke:#000000;stroke-linejoin:miter;\"/>\n   </g>\n   <g id=\"matplotlib.axis_1\">\n    <g id=\"xtick_1\">\n     <g id=\"line2d_1\">\n      <defs>\n       <path d=\"M 0 0 \nL 0 3.5 \n\" id=\"m7ac3decc97\" style=\"stroke:#000000;stroke-width:0.8;\"/>\n      </defs>\n      <g>\n       <use style=\"stroke:#000000;stroke-width:0.8;\" x=\"78.913352\" xlink:href=\"#m7ac3decc97\" y=\"224.64\"/>\n      </g>\n     </g>\n     <g id=\"text_1\">\n      <!-- 0.2 -->\n      <g transform=\"translate(70.96179 239.238437)scale(0.1 -0.1)\">\n       <defs>\n        <path d=\"M 2034 4250 \nQ 1547 4250 1301 3770 \nQ 1056 3291 1056 2328 \nQ 1056 1369 1301 889 \nQ 1547 409 2034 409 \nQ 2525 409 2770 889 \nQ 3016 1369 3016 2328 \nQ 3016 3291 2770 3770 \nQ 2525 4250 2034 4250 \nz\nM 2034 4750 \nQ 2819 4750 3233 4129 \nQ 3647 3509 3647 2328 \nQ 3647 1150 3233 529 \nQ 2819 -91 2034 -91 \nQ 1250 -91 836 529 \nQ 422 1150 422 2328 \nQ 422 3509 836 4129 \nQ 1250 4750 2034 4750 \nz\n\" id=\"DejaVuSans-30\" transform=\"scale(0.015625)\"/>\n        <path d=\"M 684 794 \nL 1344 794 \nL 1344 0 \nL 684 0 \nL 684 794 \nz\n\" id=\"DejaVuSans-2e\" transform=\"scale(0.015625)\"/>\n        <path d=\"M 1228 531 \nL 3431 531 \nL 3431 0 \nL 469 0 \nL 469 531 \nQ 828 903 1448 1529 \nQ 2069 2156 2228 2338 \nQ 2531 2678 2651 2914 \nQ 2772 3150 2772 3378 \nQ 2772 3750 2511 3984 \nQ 2250 4219 1831 4219 \nQ 1534 4219 1204 4116 \nQ 875 4013 500 3803 \nL 500 4441 \nQ 881 4594 1212 4672 \nQ 1544 4750 1819 4750 \nQ 2544 4750 2975 4387 \nQ 3406 4025 3406 3419 \nQ 3406 3131 3298 2873 \nQ 3191 2616 2906 2266 \nQ 2828 2175 2409 1742 \nQ 1991 1309 1228 531 \nz\n\" id=\"DejaVuSans-32\" transform=\"scale(0.015625)\"/>\n       </defs>\n       <use xlink:href=\"#DejaVuSans-30\"/>\n       <use x=\"63.623047\" xlink:href=\"#DejaVuSans-2e\"/>\n       <use x=\"95.410156\" xlink:href=\"#DejaVuSans-32\"/>\n      </g>\n     </g>\n    </g>\n    <g id=\"xtick_2\">\n     <g id=\"line2d_2\">\n      <g>\n       <use style=\"stroke:#000000;stroke-width:0.8;\" x=\"147.640625\" xlink:href=\"#m7ac3decc97\" y=\"224.64\"/>\n      </g>\n     </g>\n     <g id=\"text_2\">\n      <!-- 0.4 -->\n      <g transform=\"translate(139.689063 239.238437)scale(0.1 -0.1)\">\n       <defs>\n        <path d=\"M 2419 4116 \nL 825 1625 \nL 2419 1625 \nL 2419 4116 \nz\nM 2253 4666 \nL 3047 4666 \nL 3047 1625 \nL 3713 1625 \nL 3713 1100 \nL 3047 1100 \nL 3047 0 \nL 2419 0 \nL 2419 1100 \nL 313 1100 \nL 313 1709 \nL 2253 4666 \nz\n\" id=\"DejaVuSans-34\" transform=\"scale(0.015625)\"/>\n       </defs>\n       <use xlink:href=\"#DejaVuSans-30\"/>\n       <use x=\"63.623047\" xlink:href=\"#DejaVuSans-2e\"/>\n       <use x=\"95.410156\" xlink:href=\"#DejaVuSans-34\"/>\n      </g>\n     </g>\n    </g>\n    <g id=\"xtick_3\">\n     <g id=\"line2d_3\">\n      <g>\n       <use style=\"stroke:#000000;stroke-width:0.8;\" x=\"216.367898\" xlink:href=\"#m7ac3decc97\" y=\"224.64\"/>\n      </g>\n     </g>\n     <g id=\"text_3\">\n      <!-- 0.6 -->\n      <g transform=\"translate(208.416335 239.238437)scale(0.1 -0.1)\">\n       <defs>\n        <path d=\"M 2113 2584 \nQ 1688 2584 1439 2293 \nQ 1191 2003 1191 1497 \nQ 1191 994 1439 701 \nQ 1688 409 2113 409 \nQ 2538 409 2786 701 \nQ 3034 994 3034 1497 \nQ 3034 2003 2786 2293 \nQ 2538 2584 2113 2584 \nz\nM 3366 4563 \nL 3366 3988 \nQ 3128 4100 2886 4159 \nQ 2644 4219 2406 4219 \nQ 1781 4219 1451 3797 \nQ 1122 3375 1075 2522 \nQ 1259 2794 1537 2939 \nQ 1816 3084 2150 3084 \nQ 2853 3084 3261 2657 \nQ 3669 2231 3669 1497 \nQ 3669 778 3244 343 \nQ 2819 -91 2113 -91 \nQ 1303 -91 875 529 \nQ 447 1150 447 2328 \nQ 447 3434 972 4092 \nQ 1497 4750 2381 4750 \nQ 2619 4750 2861 4703 \nQ 3103 4656 3366 4563 \nz\n\" id=\"DejaVuSans-36\" transform=\"scale(0.015625)\"/>\n       </defs>\n       <use xlink:href=\"#DejaVuSans-30\"/>\n       <use x=\"63.623047\" xlink:href=\"#DejaVuSans-2e\"/>\n       <use x=\"95.410156\" xlink:href=\"#DejaVuSans-36\"/>\n      </g>\n     </g>\n    </g>\n    <g id=\"xtick_4\">\n     <g id=\"line2d_4\">\n      <g>\n       <use style=\"stroke:#000000;stroke-width:0.8;\" x=\"285.09517\" xlink:href=\"#m7ac3decc97\" y=\"224.64\"/>\n      </g>\n     </g>\n     <g id=\"text_4\">\n      <!-- 0.8 -->\n      <g transform=\"translate(277.143608 239.238437)scale(0.1 -0.1)\">\n       <defs>\n        <path d=\"M 2034 2216 \nQ 1584 2216 1326 1975 \nQ 1069 1734 1069 1313 \nQ 1069 891 1326 650 \nQ 1584 409 2034 409 \nQ 2484 409 2743 651 \nQ 3003 894 3003 1313 \nQ 3003 1734 2745 1975 \nQ 2488 2216 2034 2216 \nz\nM 1403 2484 \nQ 997 2584 770 2862 \nQ 544 3141 544 3541 \nQ 544 4100 942 4425 \nQ 1341 4750 2034 4750 \nQ 2731 4750 3128 4425 \nQ 3525 4100 3525 3541 \nQ 3525 3141 3298 2862 \nQ 3072 2584 2669 2484 \nQ 3125 2378 3379 2068 \nQ 3634 1759 3634 1313 \nQ 3634 634 3220 271 \nQ 2806 -91 2034 -91 \nQ 1263 -91 848 271 \nQ 434 634 434 1313 \nQ 434 1759 690 2068 \nQ 947 2378 1403 2484 \nz\nM 1172 3481 \nQ 1172 3119 1398 2916 \nQ 1625 2713 2034 2713 \nQ 2441 2713 2670 2916 \nQ 2900 3119 2900 3481 \nQ 2900 3844 2670 4047 \nQ 2441 4250 2034 4250 \nQ 1625 4250 1398 4047 \nQ 1172 3844 1172 3481 \nz\n\" id=\"DejaVuSans-38\" transform=\"scale(0.015625)\"/>\n       </defs>\n       <use xlink:href=\"#DejaVuSans-30\"/>\n       <use x=\"63.623047\" xlink:href=\"#DejaVuSans-2e\"/>\n       <use x=\"95.410156\" xlink:href=\"#DejaVuSans-38\"/>\n      </g>\n     </g>\n    </g>\n    <g id=\"xtick_5\">\n     <g id=\"line2d_5\">\n      <g>\n       <use style=\"stroke:#000000;stroke-width:0.8;\" x=\"353.822443\" xlink:href=\"#m7ac3decc97\" y=\"224.64\"/>\n      </g>\n     </g>\n     <g id=\"text_5\">\n      <!-- 1.0 -->\n      <g transform=\"translate(345.870881 239.238437)scale(0.1 -0.1)\">\n       <defs>\n        <path d=\"M 794 531 \nL 1825 531 \nL 1825 4091 \nL 703 3866 \nL 703 4441 \nL 1819 4666 \nL 2450 4666 \nL 2450 531 \nL 3481 531 \nL 3481 0 \nL 794 0 \nL 794 531 \nz\n\" id=\"DejaVuSans-31\" transform=\"scale(0.015625)\"/>\n       </defs>\n       <use xlink:href=\"#DejaVuSans-31\"/>\n       <use x=\"63.623047\" xlink:href=\"#DejaVuSans-2e\"/>\n       <use x=\"95.410156\" xlink:href=\"#DejaVuSans-30\"/>\n      </g>\n     </g>\n    </g>\n    <g id=\"text_6\">\n     <!-- propsurv -->\n     <g transform=\"translate(179.501563 252.916562)scale(0.1 -0.1)\">\n      <defs>\n       <path d=\"M 1159 525 \nL 1159 -1331 \nL 581 -1331 \nL 581 3500 \nL 1159 3500 \nL 1159 2969 \nQ 1341 3281 1617 3432 \nQ 1894 3584 2278 3584 \nQ 2916 3584 3314 3078 \nQ 3713 2572 3713 1747 \nQ 3713 922 3314 415 \nQ 2916 -91 2278 -91 \nQ 1894 -91 1617 61 \nQ 1341 213 1159 525 \nz\nM 3116 1747 \nQ 3116 2381 2855 2742 \nQ 2594 3103 2138 3103 \nQ 1681 3103 1420 2742 \nQ 1159 2381 1159 1747 \nQ 1159 1113 1420 752 \nQ 1681 391 2138 391 \nQ 2594 391 2855 752 \nQ 3116 1113 3116 1747 \nz\n\" id=\"DejaVuSans-70\" transform=\"scale(0.015625)\"/>\n       <path d=\"M 2631 2963 \nQ 2534 3019 2420 3045 \nQ 2306 3072 2169 3072 \nQ 1681 3072 1420 2755 \nQ 1159 2438 1159 1844 \nL 1159 0 \nL 581 0 \nL 581 3500 \nL 1159 3500 \nL 1159 2956 \nQ 1341 3275 1631 3429 \nQ 1922 3584 2338 3584 \nQ 2397 3584 2469 3576 \nQ 2541 3569 2628 3553 \nL 2631 2963 \nz\n\" id=\"DejaVuSans-72\" transform=\"scale(0.015625)\"/>\n       <path d=\"M 1959 3097 \nQ 1497 3097 1228 2736 \nQ 959 2375 959 1747 \nQ 959 1119 1226 758 \nQ 1494 397 1959 397 \nQ 2419 397 2687 759 \nQ 2956 1122 2956 1747 \nQ 2956 2369 2687 2733 \nQ 2419 3097 1959 3097 \nz\nM 1959 3584 \nQ 2709 3584 3137 3096 \nQ 3566 2609 3566 1747 \nQ 3566 888 3137 398 \nQ 2709 -91 1959 -91 \nQ 1206 -91 779 398 \nQ 353 888 353 1747 \nQ 353 2609 779 3096 \nQ 1206 3584 1959 3584 \nz\n\" id=\"DejaVuSans-6f\" transform=\"scale(0.015625)\"/>\n       <path d=\"M 2834 3397 \nL 2834 2853 \nQ 2591 2978 2328 3040 \nQ 2066 3103 1784 3103 \nQ 1356 3103 1142 2972 \nQ 928 2841 928 2578 \nQ 928 2378 1081 2264 \nQ 1234 2150 1697 2047 \nL 1894 2003 \nQ 2506 1872 2764 1633 \nQ 3022 1394 3022 966 \nQ 3022 478 2636 193 \nQ 2250 -91 1575 -91 \nQ 1294 -91 989 -36 \nQ 684 19 347 128 \nL 347 722 \nQ 666 556 975 473 \nQ 1284 391 1588 391 \nQ 1994 391 2212 530 \nQ 2431 669 2431 922 \nQ 2431 1156 2273 1281 \nQ 2116 1406 1581 1522 \nL 1381 1569 \nQ 847 1681 609 1914 \nQ 372 2147 372 2553 \nQ 372 3047 722 3315 \nQ 1072 3584 1716 3584 \nQ 2034 3584 2315 3537 \nQ 2597 3491 2834 3397 \nz\n\" id=\"DejaVuSans-73\" transform=\"scale(0.015625)\"/>\n       <path d=\"M 544 1381 \nL 544 3500 \nL 1119 3500 \nL 1119 1403 \nQ 1119 906 1312 657 \nQ 1506 409 1894 409 \nQ 2359 409 2629 706 \nQ 2900 1003 2900 1516 \nL 2900 3500 \nL 3475 3500 \nL 3475 0 \nL 2900 0 \nL 2900 538 \nQ 2691 219 2414 64 \nQ 2138 -91 1772 -91 \nQ 1169 -91 856 284 \nQ 544 659 544 1381 \nz\nM 1991 3584 \nL 1991 3584 \nz\n\" id=\"DejaVuSans-75\" transform=\"scale(0.015625)\"/>\n       <path d=\"M 191 3500 \nL 800 3500 \nL 1894 563 \nL 2988 3500 \nL 3597 3500 \nL 2284 0 \nL 1503 0 \nL 191 3500 \nz\n\" id=\"DejaVuSans-76\" transform=\"scale(0.015625)\"/>\n      </defs>\n      <use xlink:href=\"#DejaVuSans-70\"/>\n      <use x=\"63.476562\" xlink:href=\"#DejaVuSans-72\"/>\n      <use x=\"102.339844\" xlink:href=\"#DejaVuSans-6f\"/>\n      <use x=\"163.521484\" xlink:href=\"#DejaVuSans-70\"/>\n      <use x=\"226.998047\" xlink:href=\"#DejaVuSans-73\"/>\n      <use x=\"279.097656\" xlink:href=\"#DejaVuSans-75\"/>\n      <use x=\"342.476562\" xlink:href=\"#DejaVuSans-72\"/>\n      <use x=\"383.589844\" xlink:href=\"#DejaVuSans-76\"/>\n     </g>\n    </g>\n   </g>\n   <g id=\"matplotlib.axis_2\">\n    <g id=\"ytick_1\">\n     <g id=\"line2d_6\">\n      <defs>\n       <path d=\"M 0 0 \nL -3.5 0 \n\" id=\"m9ae8a1eb19\" style=\"stroke:#000000;stroke-width:0.8;\"/>\n      </defs>\n      <g>\n       <use style=\"stroke:#000000;stroke-width:0.8;\" x=\"34.240625\" xlink:href=\"#m9ae8a1eb19\" y=\"224.64\"/>\n      </g>\n     </g>\n     <g id=\"text_7\">\n      <!-- 0 -->\n      <g transform=\"translate(20.878125 228.439219)scale(0.1 -0.1)\">\n       <use xlink:href=\"#DejaVuSans-30\"/>\n      </g>\n     </g>\n    </g>\n    <g id=\"ytick_2\">\n     <g id=\"line2d_7\">\n      <g>\n       <use style=\"stroke:#000000;stroke-width:0.8;\" x=\"34.240625\" xlink:href=\"#m9ae8a1eb19\" y=\"190.125714\"/>\n      </g>\n     </g>\n     <g id=\"text_8\">\n      <!-- 1 -->\n      <g transform=\"translate(20.878125 193.924933)scale(0.1 -0.1)\">\n       <use xlink:href=\"#DejaVuSans-31\"/>\n      </g>\n     </g>\n    </g>\n    <g id=\"ytick_3\">\n     <g id=\"line2d_8\">\n      <g>\n       <use style=\"stroke:#000000;stroke-width:0.8;\" x=\"34.240625\" xlink:href=\"#m9ae8a1eb19\" y=\"155.611429\"/>\n      </g>\n     </g>\n     <g id=\"text_9\">\n      <!-- 2 -->\n      <g transform=\"translate(20.878125 159.410647)scale(0.1 -0.1)\">\n       <use xlink:href=\"#DejaVuSans-32\"/>\n      </g>\n     </g>\n    </g>\n    <g id=\"ytick_4\">\n     <g id=\"line2d_9\">\n      <g>\n       <use style=\"stroke:#000000;stroke-width:0.8;\" x=\"34.240625\" xlink:href=\"#m9ae8a1eb19\" y=\"121.097143\"/>\n      </g>\n     </g>\n     <g id=\"text_10\">\n      <!-- 3 -->\n      <g transform=\"translate(20.878125 124.896362)scale(0.1 -0.1)\">\n       <defs>\n        <path d=\"M 2597 2516 \nQ 3050 2419 3304 2112 \nQ 3559 1806 3559 1356 \nQ 3559 666 3084 287 \nQ 2609 -91 1734 -91 \nQ 1441 -91 1130 -33 \nQ 819 25 488 141 \nL 488 750 \nQ 750 597 1062 519 \nQ 1375 441 1716 441 \nQ 2309 441 2620 675 \nQ 2931 909 2931 1356 \nQ 2931 1769 2642 2001 \nQ 2353 2234 1838 2234 \nL 1294 2234 \nL 1294 2753 \nL 1863 2753 \nQ 2328 2753 2575 2939 \nQ 2822 3125 2822 3475 \nQ 2822 3834 2567 4026 \nQ 2313 4219 1838 4219 \nQ 1578 4219 1281 4162 \nQ 984 4106 628 3988 \nL 628 4550 \nQ 988 4650 1302 4700 \nQ 1616 4750 1894 4750 \nQ 2613 4750 3031 4423 \nQ 3450 4097 3450 3541 \nQ 3450 3153 3228 2886 \nQ 3006 2619 2597 2516 \nz\n\" id=\"DejaVuSans-33\" transform=\"scale(0.015625)\"/>\n       </defs>\n       <use xlink:href=\"#DejaVuSans-33\"/>\n      </g>\n     </g>\n    </g>\n    <g id=\"ytick_5\">\n     <g id=\"line2d_10\">\n      <g>\n       <use style=\"stroke:#000000;stroke-width:0.8;\" x=\"34.240625\" xlink:href=\"#m9ae8a1eb19\" y=\"86.582857\"/>\n      </g>\n     </g>\n     <g id=\"text_11\">\n      <!-- 4 -->\n      <g transform=\"translate(20.878125 90.382076)scale(0.1 -0.1)\">\n       <use xlink:href=\"#DejaVuSans-34\"/>\n      </g>\n     </g>\n    </g>\n    <g id=\"ytick_6\">\n     <g id=\"line2d_11\">\n      <g>\n       <use style=\"stroke:#000000;stroke-width:0.8;\" x=\"34.240625\" xlink:href=\"#m9ae8a1eb19\" y=\"52.068571\"/>\n      </g>\n     </g>\n     <g id=\"text_12\">\n      <!-- 5 -->\n      <g transform=\"translate(20.878125 55.86779)scale(0.1 -0.1)\">\n       <defs>\n        <path d=\"M 691 4666 \nL 3169 4666 \nL 3169 4134 \nL 1269 4134 \nL 1269 2991 \nQ 1406 3038 1543 3061 \nQ 1681 3084 1819 3084 \nQ 2600 3084 3056 2656 \nQ 3513 2228 3513 1497 \nQ 3513 744 3044 326 \nQ 2575 -91 1722 -91 \nQ 1428 -91 1123 -41 \nQ 819 9 494 109 \nL 494 744 \nQ 775 591 1075 516 \nQ 1375 441 1709 441 \nQ 2250 441 2565 725 \nQ 2881 1009 2881 1497 \nQ 2881 1984 2565 2268 \nQ 2250 2553 1709 2553 \nQ 1456 2553 1204 2497 \nQ 953 2441 691 2322 \nL 691 4666 \nz\n\" id=\"DejaVuSans-35\" transform=\"scale(0.015625)\"/>\n       </defs>\n       <use xlink:href=\"#DejaVuSans-35\"/>\n      </g>\n     </g>\n    </g>\n    <g id=\"ytick_7\">\n     <g id=\"line2d_12\">\n      <g>\n       <use style=\"stroke:#000000;stroke-width:0.8;\" x=\"34.240625\" xlink:href=\"#m9ae8a1eb19\" y=\"17.554286\"/>\n      </g>\n     </g>\n     <g id=\"text_13\">\n      <!-- 6 -->\n      <g transform=\"translate(20.878125 21.353504)scale(0.1 -0.1)\">\n       <use xlink:href=\"#DejaVuSans-36\"/>\n      </g>\n     </g>\n    </g>\n    <g id=\"text_14\">\n     <!-- Count -->\n     <g transform=\"translate(14.798437 130.768437)rotate(-90)scale(0.1 -0.1)\">\n      <defs>\n       <path d=\"M 4122 4306 \nL 4122 3641 \nQ 3803 3938 3442 4084 \nQ 3081 4231 2675 4231 \nQ 1875 4231 1450 3742 \nQ 1025 3253 1025 2328 \nQ 1025 1406 1450 917 \nQ 1875 428 2675 428 \nQ 3081 428 3442 575 \nQ 3803 722 4122 1019 \nL 4122 359 \nQ 3791 134 3420 21 \nQ 3050 -91 2638 -91 \nQ 1578 -91 968 557 \nQ 359 1206 359 2328 \nQ 359 3453 968 4101 \nQ 1578 4750 2638 4750 \nQ 3056 4750 3426 4639 \nQ 3797 4528 4122 4306 \nz\n\" id=\"DejaVuSans-43\" transform=\"scale(0.015625)\"/>\n       <path d=\"M 3513 2113 \nL 3513 0 \nL 2938 0 \nL 2938 2094 \nQ 2938 2591 2744 2837 \nQ 2550 3084 2163 3084 \nQ 1697 3084 1428 2787 \nQ 1159 2491 1159 1978 \nL 1159 0 \nL 581 0 \nL 581 3500 \nL 1159 3500 \nL 1159 2956 \nQ 1366 3272 1645 3428 \nQ 1925 3584 2291 3584 \nQ 2894 3584 3203 3211 \nQ 3513 2838 3513 2113 \nz\n\" id=\"DejaVuSans-6e\" transform=\"scale(0.015625)\"/>\n       <path d=\"M 1172 4494 \nL 1172 3500 \nL 2356 3500 \nL 2356 3053 \nL 1172 3053 \nL 1172 1153 \nQ 1172 725 1289 603 \nQ 1406 481 1766 481 \nL 2356 481 \nL 2356 0 \nL 1766 0 \nQ 1100 0 847 248 \nQ 594 497 594 1153 \nL 594 3053 \nL 172 3053 \nL 172 3500 \nL 594 3500 \nL 594 4494 \nL 1172 4494 \nz\n\" id=\"DejaVuSans-74\" transform=\"scale(0.015625)\"/>\n      </defs>\n      <use xlink:href=\"#DejaVuSans-43\"/>\n      <use x=\"69.824219\" xlink:href=\"#DejaVuSans-6f\"/>\n      <use x=\"131.005859\" xlink:href=\"#DejaVuSans-75\"/>\n      <use x=\"194.384766\" xlink:href=\"#DejaVuSans-6e\"/>\n      <use x=\"257.763672\" xlink:href=\"#DejaVuSans-74\"/>\n     </g>\n    </g>\n   </g>\n   <g id=\"patch_63\">\n    <path d=\"M 34.240625 224.64 \nL 34.240625 7.2 \n\" style=\"fill:none;stroke:#000000;stroke-linecap:square;stroke-linejoin:miter;stroke-width:0.8;\"/>\n   </g>\n   <g id=\"patch_64\">\n    <path d=\"M 369.040625 224.64 \nL 369.040625 7.2 \n\" style=\"fill:none;stroke:#000000;stroke-linecap:square;stroke-linejoin:miter;stroke-width:0.8;\"/>\n   </g>\n   <g id=\"patch_65\">\n    <path d=\"M 34.240625 224.64 \nL 369.040625 224.64 \n\" style=\"fill:none;stroke:#000000;stroke-linecap:square;stroke-linejoin:miter;stroke-width:0.8;\"/>\n   </g>\n   <g id=\"patch_66\">\n    <path d=\"M 34.240625 7.2 \nL 369.040625 7.2 \n\" style=\"fill:none;stroke:#000000;stroke-linecap:square;stroke-linejoin:miter;stroke-width:0.8;\"/>\n   </g>\n   <g id=\"legend_1\">\n    <g id=\"patch_67\">\n     <path d=\"M 41.240625 59.234375 \nL 95.976562 59.234375 \nQ 97.976562 59.234375 97.976562 57.234375 \nL 97.976562 14.2 \nQ 97.976562 12.2 95.976562 12.2 \nL 41.240625 12.2 \nQ 39.240625 12.2 39.240625 14.2 \nL 39.240625 57.234375 \nQ 39.240625 59.234375 41.240625 59.234375 \nz\n\" style=\"fill:#ffffff;opacity:0.8;stroke:#cccccc;stroke-linejoin:miter;\"/>\n    </g>\n    <g id=\"text_15\">\n     <!-- pred -->\n     <g transform=\"translate(57.240625 23.798437)scale(0.1 -0.1)\">\n      <defs>\n       <path d=\"M 3597 1894 \nL 3597 1613 \nL 953 1613 \nQ 991 1019 1311 708 \nQ 1631 397 2203 397 \nQ 2534 397 2845 478 \nQ 3156 559 3463 722 \nL 3463 178 \nQ 3153 47 2828 -22 \nQ 2503 -91 2169 -91 \nQ 1331 -91 842 396 \nQ 353 884 353 1716 \nQ 353 2575 817 3079 \nQ 1281 3584 2069 3584 \nQ 2775 3584 3186 3129 \nQ 3597 2675 3597 1894 \nz\nM 3022 2063 \nQ 3016 2534 2758 2815 \nQ 2500 3097 2075 3097 \nQ 1594 3097 1305 2825 \nQ 1016 2553 972 2059 \nL 3022 2063 \nz\n\" id=\"DejaVuSans-65\" transform=\"scale(0.015625)\"/>\n       <path d=\"M 2906 2969 \nL 2906 4863 \nL 3481 4863 \nL 3481 0 \nL 2906 0 \nL 2906 525 \nQ 2725 213 2448 61 \nQ 2172 -91 1784 -91 \nQ 1150 -91 751 415 \nQ 353 922 353 1747 \nQ 353 2572 751 3078 \nQ 1150 3584 1784 3584 \nQ 2172 3584 2448 3432 \nQ 2725 3281 2906 2969 \nz\nM 947 1747 \nQ 947 1113 1208 752 \nQ 1469 391 1925 391 \nQ 2381 391 2643 752 \nQ 2906 1113 2906 1747 \nQ 2906 2381 2643 2742 \nQ 2381 3103 1925 3103 \nQ 1469 3103 1208 2742 \nQ 947 2381 947 1747 \nz\n\" id=\"DejaVuSans-64\" transform=\"scale(0.015625)\"/>\n      </defs>\n      <use xlink:href=\"#DejaVuSans-70\"/>\n      <use x=\"63.476562\" xlink:href=\"#DejaVuSans-72\"/>\n      <use x=\"102.339844\" xlink:href=\"#DejaVuSans-65\"/>\n      <use x=\"163.863281\" xlink:href=\"#DejaVuSans-64\"/>\n     </g>\n    </g>\n    <g id=\"patch_68\">\n     <path d=\"M 43.240625 38.476562 \nL 63.240625 38.476562 \nL 63.240625 31.476562 \nL 43.240625 31.476562 \nz\n\" style=\"fill:#1f77b4;fill-opacity:0.5;stroke:#000000;stroke-linejoin:miter;\"/>\n    </g>\n    <g id=\"text_16\">\n     <!-- no -->\n     <g transform=\"translate(71.240625 38.476562)scale(0.1 -0.1)\">\n      <use xlink:href=\"#DejaVuSans-6e\"/>\n      <use x=\"63.378906\" xlink:href=\"#DejaVuSans-6f\"/>\n     </g>\n    </g>\n    <g id=\"patch_69\">\n     <path d=\"M 43.240625 53.154687 \nL 63.240625 53.154687 \nL 63.240625 46.154687 \nL 43.240625 46.154687 \nz\n\" style=\"fill:#ff7f0e;fill-opacity:0.5;stroke:#000000;stroke-linejoin:miter;\"/>\n    </g>\n    <g id=\"text_17\">\n     <!-- pred -->\n     <g transform=\"translate(71.240625 53.154687)scale(0.1 -0.1)\">\n      <use xlink:href=\"#DejaVuSans-70\"/>\n      <use x=\"63.476562\" xlink:href=\"#DejaVuSans-72\"/>\n      <use x=\"102.339844\" xlink:href=\"#DejaVuSans-65\"/>\n      <use x=\"163.863281\" xlink:href=\"#DejaVuSans-64\"/>\n     </g>\n    </g>\n   </g>\n  </g>\n </g>\n <defs>\n  <clipPath id=\"pe06a2dd47a\">\n   <rect height=\"217.44\" width=\"334.8\" x=\"34.240625\" y=\"7.2\"/>\n  </clipPath>\n </defs>\n</svg>\n",
      "image/png": "[encoded data removed]"
     },
     "metadata": {
      "needs_background": "light"
     }
    }
   ],
   "source": [
    "sns.histplot(data=df, x=\"propsurv\", hue=\"pred\", bins=30);"
   ]
  },
  {
   "source": [
    "## Defining the Models\n",
    "`reedfrogs_lin` is the generalized linear regression model. `reedfrogs_hier5` is the hierarchical model from lecture 5 based on population only. `reedfrogs_hier6` is the hierarchical model from lecture 6 based on population size and predation."
   ],
   "cell_type": "markdown",
   "metadata": {}
  },
  {
   "cell_type": "code",
   "execution_count": 24,
   "metadata": {},
   "outputs": [],
   "source": [
    "def reedfrogs_hier5(density, survival):\n",
    "    N = len(density)\n",
    "    sigma = numpyro.sample(\"sigma\", dist.Exponential(1.))\n",
    "    alpha_0 = numpyro.sample(\"alpha_0\", dist.Normal(0., 1.5))\n",
    "    alpha_t = numpyro.sample(\"alpha_t\", dist.MultivariateNormal(jnp.full([N], alpha_0), sigma * jnp.eye(N)))\n",
    "\n",
    "    with numpyro.plate('data_loop', len(density)):\n",
    "        p = sigmoid(alpha_t)\n",
    "        numpyro.sample(\"survival\", dist.Binomial(density, p), obs=survival)"
   ]
  },
  {
   "cell_type": "code",
   "execution_count": 25,
   "metadata": {
    "tags": []
   },
   "outputs": [
    {
     "output_type": "stream",
     "name": "stderr",
     "text": [
      "sample: 100%|██████████| 800/800 [00:07<00:00, 112.65it/s, 7 steps of size 4.40e-01. acc. prob=0.89]\n"
     ]
    },
    {
     "output_type": "execute_result",
     "data": {
      "text/plain": [
       "{'alpha_0': DeviceArray([1.5622417 , 1.3208783 , 1.8195857 , 1.1535438 , 1.4840736 ,\n",
       "              1.2440873 , 1.3748486 , 1.5241839 , 1.0854031 , 1.1945871 ,\n",
       "              1.5790883 , 1.1736833 , 0.83334243, 1.7401413 , 1.645172  ,\n",
       "              1.3779087 , 1.4776063 , 1.3289801 , 1.4675    , 1.0877696 ,\n",
       "              1.4199098 , 1.2767153 , 0.9462293 , 1.7567362 , 1.5353341 ,\n",
       "              1.3339002 , 0.98074085, 0.9751702 , 1.2929002 , 1.2368956 ,\n",
       "              1.8113215 , 0.43497932, 1.2646049 , 1.2609707 , 1.3022459 ,\n",
       "              1.4920342 , 1.2585089 , 1.3386282 , 1.4179095 , 1.6673326 ,\n",
       "              1.6314703 , 1.4398193 , 1.1317614 , 1.4770477 , 1.0363355 ,\n",
       "              0.9479143 , 1.4346828 , 1.2469711 , 1.3788477 , 1.3166835 ,\n",
       "              1.3013433 , 1.5737623 , 0.9864979 , 1.9237335 , 1.2175789 ,\n",
       "              1.6193423 , 1.4573214 , 1.1989805 , 1.670469  , 1.506243  ,\n",
       "              1.1174293 , 1.3867096 , 1.3891438 , 1.1059502 , 1.4254522 ,\n",
       "              1.378605  , 1.0397646 , 1.1891235 , 1.3419021 , 1.3669518 ,\n",
       "              0.8222525 , 0.7808696 , 1.4278768 , 1.3170257 , 1.3196766 ,\n",
       "              1.4089011 , 1.2712815 , 1.7214296 , 1.6904519 , 1.2391083 ,\n",
       "              1.0474486 , 1.6250914 , 1.5958177 , 1.2028352 , 1.5904483 ,\n",
       "              1.2793844 , 1.315732  , 1.0733376 , 1.4861035 , 1.0075016 ,\n",
       "              1.2088702 , 1.286133  , 1.4620875 , 1.1780932 , 1.5253806 ,\n",
       "              1.1919502 , 1.6289696 , 1.7040452 , 1.4616479 , 1.5982132 ,\n",
       "              1.5900457 , 1.1925147 , 1.34534   , 1.1688005 , 0.8874462 ,\n",
       "              0.64517146, 1.4653444 , 0.7758607 , 1.0175493 , 1.0180757 ,\n",
       "              1.3866153 , 1.7519014 , 1.4864883 , 1.8348047 , 1.0232004 ,\n",
       "              1.5088714 , 1.3989453 , 1.1450514 , 1.4153463 , 1.748571  ,\n",
       "              1.6680025 , 1.6100173 , 1.5763586 , 1.4755772 , 1.1260556 ,\n",
       "              1.5093219 , 1.2150091 , 1.3200104 , 1.1220287 , 1.2440188 ,\n",
       "              1.3366177 , 1.3881785 , 1.2339045 , 1.3568816 , 1.141578  ,\n",
       "              1.1496562 , 1.3838338 , 1.3376012 , 1.3221867 , 1.1568176 ,\n",
       "              1.2234381 , 1.3228014 , 1.20265   , 1.3586788 , 1.2753658 ,\n",
       "              1.2324617 , 1.4279237 , 1.491025  , 1.3421487 , 1.3674952 ,\n",
       "              1.1417499 , 1.565364  , 1.3944093 , 1.3448526 , 1.368965  ,\n",
       "              1.2738619 , 1.4250772 , 1.1832864 , 1.4895824 , 1.0190246 ,\n",
       "              1.5359839 , 1.6777805 , 1.6848941 , 1.1622648 , 0.928526  ,\n",
       "              1.4157026 , 1.141559  , 1.272166  , 1.3172538 , 0.8784258 ,\n",
       "              1.3191723 , 1.1563578 , 1.3641034 , 1.2301382 , 0.9560033 ,\n",
       "              1.3795676 , 1.0820432 , 1.4020889 , 1.0549392 , 1.3725632 ,\n",
       "              1.2382329 , 1.0047023 , 1.0905552 , 0.90613985, 1.6813184 ,\n",
       "              1.1514499 , 1.3245224 , 1.0893754 , 0.94059503, 1.1320447 ,\n",
       "              1.567244  , 1.1875502 , 1.4327182 , 1.3884505 , 1.279136  ,\n",
       "              1.2036277 , 1.3816588 , 1.2122799 , 1.3190664 , 1.3074512 ,\n",
       "              1.4240795 , 1.1360734 , 1.4379942 , 1.3641027 , 0.7931838 ,\n",
       "              1.0197892 , 1.5174364 , 1.316285  , 1.477832  , 1.460674  ,\n",
       "              1.5338222 , 1.4358063 , 1.3059831 , 0.997472  , 1.3384546 ,\n",
       "              1.4405428 , 1.0216733 , 1.6454009 , 1.3329072 , 1.3450269 ,\n",
       "              1.7591069 , 0.70220196, 1.5279837 , 1.93085   , 0.8783566 ,\n",
       "              1.5110219 , 1.3692466 , 1.1833622 , 1.095163  , 1.7098755 ,\n",
       "              1.0543807 , 1.4002731 , 1.4095904 , 1.1527517 , 1.3536385 ,\n",
       "              0.9556006 , 1.4261957 , 1.3996265 , 1.5481586 , 1.4589633 ,\n",
       "              1.0684676 , 1.2373542 , 1.523898  , 1.2721678 , 1.0884248 ,\n",
       "              1.3071846 , 1.0487138 , 0.8975856 , 0.875632  , 1.5413809 ,\n",
       "              1.512021  , 1.5348227 , 1.2239376 , 1.3014714 , 1.1462966 ,\n",
       "              1.0000778 , 1.6012249 , 1.1710047 , 1.1820743 , 1.0318094 ,\n",
       "              1.6413585 , 0.9703763 , 1.627122  , 0.7780772 , 1.116475  ,\n",
       "              1.2799115 , 1.4025435 , 1.216901  , 1.5233363 , 1.1904421 ,\n",
       "              1.3672999 , 1.6352262 , 0.91258335, 1.5881343 , 1.300349  ,\n",
       "              1.7622133 , 1.3375522 , 1.351326  , 1.5324134 , 1.3687769 ,\n",
       "              1.2666212 , 1.3701501 , 1.1525316 , 1.1081501 , 1.8021297 ,\n",
       "              1.479375  , 1.7637668 , 1.4714483 , 1.1361333 , 1.5413487 ,\n",
       "              0.9984598 , 1.1391894 , 1.5332885 , 1.319982  , 1.1826882 ,\n",
       "              1.4700266 , 1.4891379 , 1.1890543 , 1.2247524 , 1.1883594 ,\n",
       "              1.1959159 , 1.1181566 , 1.0057576 , 0.9965671 , 1.036068  ,\n",
       "              1.2474103 , 1.2474103 , 1.0733007 , 1.1416192 , 1.7143116 ,\n",
       "              1.6318265 , 1.4039885 , 1.0992109 , 1.1527127 , 1.7376916 ,\n",
       "              1.3674524 , 1.5224527 , 1.1022404 , 1.1394517 , 1.6065645 ,\n",
       "              1.4258124 , 0.9798264 , 1.8748146 , 1.565916  , 1.329628  ,\n",
       "              1.6063014 , 1.6202208 , 1.1343441 , 1.9834679 , 0.9107425 ,\n",
       "              1.222121  , 1.6863847 , 1.3054066 , 1.1303536 , 1.7231913 ,\n",
       "              0.8973738 , 1.5322322 , 1.2218702 , 1.6678995 , 1.5514569 ,\n",
       "              1.6517682 , 1.027136  , 1.4792082 , 0.9802143 , 1.453177  ,\n",
       "              1.3542749 , 0.9931865 , 0.6708643 , 1.2149402 , 0.92253745,\n",
       "              1.6286769 , 1.6035373 , 1.1434073 , 1.6857644 , 1.7833154 ,\n",
       "              1.3553613 , 1.2947744 , 1.2741885 , 1.4183104 , 1.2423887 ,\n",
       "              1.3735614 , 1.3438929 , 1.046495  , 0.88999075, 1.2071108 ,\n",
       "              1.2368928 , 1.3959181 , 1.164779  , 1.0517703 , 1.429504  ,\n",
       "              1.2153354 , 1.6815584 , 1.0730202 , 1.5046489 , 1.1845326 ,\n",
       "              1.3474574 , 1.6707776 , 0.9512523 , 1.0363868 , 1.5748563 ,\n",
       "              1.0490212 , 1.4873995 , 1.5738589 , 1.5420465 , 1.6967328 ,\n",
       "              0.76466364, 1.6104707 , 0.9840613 , 1.2598305 , 1.4244148 ,\n",
       "              1.3101537 , 1.3115443 , 1.8177676 , 1.5096434 , 1.4679732 ,\n",
       "              1.4876956 , 1.5363045 , 1.2459736 , 1.466518  , 1.0805446 ,\n",
       "              1.1969725 , 1.4713669 , 1.332231  , 2.051484  , 1.5168484 ,\n",
       "              1.2355847 , 1.2243181 , 1.1833512 , 1.4565605 , 1.4658706 ,\n",
       "              1.4813203 , 1.5169401 , 1.1072472 , 1.1347657 , 1.534163  ,\n",
       "              1.0690901 , 1.3140496 , 1.1423866 , 1.5433064 , 0.9157375 ,\n",
       "              1.0679674 , 1.3779007 , 1.19179   , 1.0485314 , 1.5396936 ,\n",
       "              1.6064725 , 1.2991513 , 1.3746034 , 1.3850152 , 1.3596445 ,\n",
       "              1.39568   , 1.296981  , 1.6253849 , 1.3895329 , 1.2699558 ,\n",
       "              1.0115548 , 0.7896828 , 1.3338403 , 1.1340849 , 1.609764  ,\n",
       "              1.3758515 , 1.562876  , 1.6162513 , 1.5103061 , 1.3316246 ,\n",
       "              1.6529876 , 1.3033766 , 1.4528688 , 1.2881628 , 1.7062198 ,\n",
       "              1.9641815 , 1.2683169 , 1.481808  , 1.1018101 , 1.3690871 ,\n",
       "              1.3853319 , 1.4754975 , 1.3973228 , 1.4105526 , 1.3680291 ,\n",
       "              1.0812821 , 1.0904428 , 1.188449  , 0.96695346, 1.1296891 ,\n",
       "              1.2643162 , 1.660967  , 1.7340063 , 1.132298  , 1.646078  ,\n",
       "              1.0621076 , 1.3774997 , 1.1446707 , 1.57079   , 1.2688224 ,\n",
       "              1.3152921 , 1.3380258 , 1.3599205 , 1.225998  , 1.4574244 ,\n",
       "              1.2544757 , 1.3112565 , 1.2790575 , 1.6562123 , 1.9936205 ,\n",
       "              1.3238662 , 1.1761084 , 1.0710042 , 1.2942038 , 1.5768238 ,\n",
       "              1.6268824 , 1.4825767 , 1.0711513 , 1.3950512 , 1.5638884 ,\n",
       "              1.48633   , 1.754919  , 0.8308308 , 1.7880898 , 1.8412967 ],            dtype=float32),\n",
       " 'alpha_t': DeviceArray([[ 3.0069668 ,  5.98385   , -0.09660813, ..., -0.5235106 ,\n",
       "                1.4454814 ,  0.03459434],\n",
       "              [ 1.1344136 ,  0.69757026,  2.9086633 , ..., -0.5467259 ,\n",
       "                2.524759  ,  0.11875485],\n",
       "              [ 1.9324341 ,  2.4887486 ,  2.4308023 , ..., -0.6152399 ,\n",
       "                2.2785966 , -0.07636579],\n",
       "              ...,\n",
       "              [ 2.00955   ,  3.125355  ,  0.5131702 , ..., -0.6713954 ,\n",
       "                1.6335738 ,  0.2197811 ],\n",
       "              [ 1.6963425 ,  3.8444517 ,  0.64653724, ..., -0.6303915 ,\n",
       "                2.3442397 , -0.21955188],\n",
       "              [ 2.823234  ,  2.2827988 ,  1.1522478 , ..., -0.7487726 ,\n",
       "                2.0002406 , -0.04522163]], dtype=float32),\n",
       " 'sigma': DeviceArray([3.3289807, 2.4174936, 2.1715426, 2.4017107, 1.5129488,\n",
       "              2.0397718, 1.8880317, 2.3147721, 2.0716271, 2.6043835,\n",
       "              2.4181712, 2.1569586, 2.2973838, 2.0686965, 2.1648698,\n",
       "              2.0672185, 1.9200119, 2.1236882, 3.00669  , 1.5827545,\n",
       "              3.1332185, 2.0069633, 2.6034722, 2.0507293, 2.3045413,\n",
       "              1.9333035, 2.9987903, 3.9320676, 3.1455102, 2.5070598,\n",
       "              3.0941427, 1.9112258, 1.9381005, 2.058499 , 1.6694766,\n",
       "              1.7656952, 2.3619905, 2.787649 , 1.7115033, 2.423764 ,\n",
       "              2.5495596, 2.382316 , 2.2960243, 1.507453 , 3.2107513,\n",
       "              2.620101 , 1.93541  , 2.3034377, 2.047509 , 2.1747649,\n",
       "              1.8731886, 2.6760776, 2.3270795, 2.6201751, 2.495201 ,\n",
       "              3.2902393, 2.942709 , 2.5296397, 2.0112836, 2.3970528,\n",
       "              2.7195587, 3.5980968, 1.905165 , 2.4462655, 3.8580005,\n",
       "              2.491777 , 3.523128 , 2.8845458, 2.4148068, 2.8567793,\n",
       "              2.6076355, 2.591803 , 2.12627  , 2.369211 , 2.161492 ,\n",
       "              2.495839 , 3.0529292, 1.8805064, 2.382674 , 2.0749528,\n",
       "              2.1965594, 3.0047026, 2.2199163, 3.3534253, 2.632031 ,\n",
       "              2.287055 , 1.7481693, 2.4096594, 1.6780796, 3.0358696,\n",
       "              2.3666759, 2.1328282, 2.0378628, 2.802342 , 2.5078707,\n",
       "              2.8364964, 2.1729252, 2.3397627, 2.5196564, 2.1232293,\n",
       "              2.2776759, 3.922343 , 2.3760767, 2.4601898, 2.7669845,\n",
       "              3.0421176, 1.7257686, 2.6081467, 2.3113666, 2.2477593,\n",
       "              2.2851207, 2.7819686, 2.9514635, 2.2720904, 2.2502444,\n",
       "              2.0525243, 2.0703058, 2.7498791, 2.7619967, 3.3414109,\n",
       "              3.3557959, 2.531557 , 2.1301532, 1.9423965, 2.2693963,\n",
       "              2.4581082, 1.935358 , 1.7815821, 1.9564182, 2.1059897,\n",
       "              2.222937 , 2.6206965, 2.6951337, 2.8400192, 2.0445707,\n",
       "              3.3098035, 2.2497423, 2.433376 , 2.0738385, 2.0381498,\n",
       "              2.465087 , 1.592205 , 2.3527565, 1.7254262, 1.9915789,\n",
       "              2.3013997, 2.3300877, 2.650025 , 2.143164 , 2.999119 ,\n",
       "              2.5144527, 2.8036861, 1.5437542, 2.8953261, 2.123667 ,\n",
       "              1.9510672, 2.8724332, 1.6205459, 1.661604 , 1.9424206,\n",
       "              2.750328 , 3.6878014, 3.0744233, 3.1082942, 2.3102946,\n",
       "              1.9542263, 2.3183086, 1.9662983, 2.0704823, 1.6058238,\n",
       "              1.6449366, 1.9535673, 2.2919915, 2.168842 , 2.7091036,\n",
       "              1.918747 , 3.053308 , 2.7063766, 2.439037 , 2.1776187,\n",
       "              2.7614625, 2.6046271, 4.15261  , 2.9094775, 3.1030831,\n",
       "              2.4171567, 1.8543515, 2.4839547, 2.6130004, 2.308519 ,\n",
       "              2.2919843, 1.6073225, 2.5003123, 2.1340747, 2.6078558,\n",
       "              3.138547 , 3.2784228, 2.3033752, 1.7388153, 1.7683759,\n",
       "              1.2918305, 2.0701969, 2.418017 , 2.6710274, 1.8797426,\n",
       "              2.1895463, 2.1371355, 3.0902572, 2.4015455, 2.7195787,\n",
       "              2.9014688, 3.0760067, 2.7106497, 2.2093854, 1.9593687,\n",
       "              1.8002754, 2.815345 , 2.3806062, 2.4821224, 1.991433 ,\n",
       "              1.8608183, 2.3421233, 2.4553535, 2.5485737, 2.8421135,\n",
       "              3.2085965, 2.1107466, 2.629153 , 2.192153 , 2.3070247,\n",
       "              2.8340907, 2.6405783, 1.9916236, 2.6517682, 1.9540614,\n",
       "              2.0177517, 2.2379224, 3.066536 , 3.864018 , 2.0256715,\n",
       "              2.8469214, 2.203655 , 2.8163495, 1.8512739, 2.207961 ,\n",
       "              1.5313144, 2.1891015, 2.8400106, 3.6718156, 2.4120991,\n",
       "              2.953956 , 1.973212 , 2.7834105, 1.7233396, 2.2931862,\n",
       "              2.2917724, 2.3274996, 2.7529948, 2.1956112, 2.3431149,\n",
       "              3.2017112, 1.9432579, 1.3550439, 2.3889785, 2.2608144,\n",
       "              2.2817564, 1.8520072, 2.2096865, 2.3069541, 2.2253585,\n",
       "              2.0214334, 2.0016851, 2.278287 , 2.225103 , 2.873342 ,\n",
       "              2.2542076, 1.8568432, 2.6640947, 2.7013462, 1.873265 ,\n",
       "              2.6721263, 2.7852275, 2.2786546, 1.8840648, 2.9468987,\n",
       "              2.773806 , 3.6590936, 2.010365 , 3.571249 , 2.3339725,\n",
       "              1.9640614, 2.6746428, 2.0451689, 2.856411 , 2.5184212,\n",
       "              2.168806 , 2.5928302, 1.9187517, 1.7588972, 1.8803867,\n",
       "              2.3672078, 1.6394405, 2.0090017, 2.2311394, 1.9256687,\n",
       "              2.6341538, 2.6341538, 1.2753869, 2.0960274, 2.5233285,\n",
       "              3.5979595, 1.7326059, 2.6094856, 2.1816716, 2.5585775,\n",
       "              1.7923367, 2.5753577, 1.6821733, 1.8333569, 2.6478534,\n",
       "              2.4541984, 2.0325356, 2.0139067, 5.2087345, 3.6170661,\n",
       "              1.7568008, 1.7075992, 4.175984 , 2.3748448, 3.1214552,\n",
       "              3.4236894, 1.4300988, 4.483855 , 1.8533291, 4.406118 ,\n",
       "              1.8211954, 2.3717792, 1.7492841, 2.0737514, 2.0396597,\n",
       "              1.9452808, 1.8980421, 2.6235504, 1.8087537, 2.0591075,\n",
       "              2.0553367, 1.9057797, 2.6717606, 3.057614 , 1.8453684,\n",
       "              2.3338554, 2.102025 , 2.94126  , 3.3339882, 2.968233 ,\n",
       "              1.9067942, 2.2353828, 1.9137731, 1.9461901, 3.5371704,\n",
       "              3.355657 , 1.7770692, 2.5436783, 2.2587295, 2.0243957,\n",
       "              2.4295704, 1.7206627, 1.7846235, 1.715435 , 2.791382 ,\n",
       "              2.8005528, 2.1349502, 1.7559253, 3.013818 , 1.958473 ,\n",
       "              1.9926962, 2.3386626, 2.115151 , 1.7768246, 2.5966456,\n",
       "              1.846968 , 2.2665677, 2.1063588, 2.0412924, 2.4285877,\n",
       "              1.399052 , 2.718707 , 1.8654318, 2.1700754, 3.0592947,\n",
       "              2.3162565, 1.8529574, 3.5117881, 2.2830293, 3.1712897,\n",
       "              2.6359057, 3.0997958, 1.9207332, 2.5591521, 2.5300655,\n",
       "              1.9339193, 2.0711136, 2.3643978, 3.153755 , 3.4407015,\n",
       "              1.7942766, 1.9931847, 2.2549357, 1.7935953, 1.9842048,\n",
       "              3.2040849, 2.4948478, 1.7680603, 2.0284202, 2.4893131,\n",
       "              2.4765897, 1.9422559, 2.0229585, 2.6507382, 2.2778344,\n",
       "              2.5464625, 1.8515539, 2.396211 , 2.000689 , 3.3747306,\n",
       "              3.406517 , 1.407271 , 2.5504498, 1.6327718, 2.15345  ,\n",
       "              2.4096735, 2.2216034, 2.5585709, 1.7294091, 2.125431 ,\n",
       "              2.0130515, 2.1612124, 2.3793888, 2.2191565, 1.9516566,\n",
       "              3.9654047, 2.2989583, 2.5075412, 2.6286473, 3.1619701,\n",
       "              2.10023  , 1.7153884, 2.7518513, 2.5112553, 4.304667 ,\n",
       "              3.482636 , 2.383535 , 2.1448536, 3.012502 , 3.402852 ,\n",
       "              3.3975997, 1.8895832, 2.1996725, 1.6028385, 1.4755096,\n",
       "              2.381804 , 1.8023238, 2.7874572, 2.2236013, 2.9633062,\n",
       "              2.464548 , 3.6524746, 2.6327899, 3.9246228, 2.4076693,\n",
       "              1.9577398, 2.0716898, 1.8928846, 2.0187519, 2.3769932,\n",
       "              1.8129994, 2.3716586, 3.4004786, 1.5544649, 2.1166255,\n",
       "              2.5791786, 3.1659322, 2.9102688, 2.3676968, 3.9331005,\n",
       "              2.3535187, 2.6512022, 2.4144695, 1.8369584, 3.7539787,\n",
       "              1.9973537, 2.1102417, 2.0679538, 2.552874 , 3.668637 ,\n",
       "              2.573143 , 4.1778655, 1.9082876, 2.834927 , 2.255883 ],            dtype=float32)}"
      ]
     },
     "metadata": {},
     "execution_count": 25
    }
   ],
   "source": [
    "nuts_kernel = NUTS(reedfrogs_hier5, adapt_step_size=True)\n",
    "mcmc = MCMC(nuts_kernel, num_warmup=300, num_samples=500)\n",
    "rng_key = random.PRNGKey(0)\n",
    "mcmc.run(rng_key, df.density.to_numpy(), df.surv.to_numpy(), extra_fields=('potential_energy',))\n",
    "mcmc.get_samples()"
   ]
  },
  {
   "cell_type": "code",
   "execution_count": 27,
   "metadata": {},
   "outputs": [
    {
     "output_type": "stream",
     "name": "stdout",
     "text": [
      "\n                 mean       std    median      5.0%     95.0%     n_eff     r_hat\n    alpha_0      1.33      0.25      1.33      0.98      1.76    413.02      1.00\n alpha_t[0]      2.09      0.87      2.00      0.69      3.48    501.66      1.00\n alpha_t[1]      2.97      1.17      2.84      1.28      5.04    382.30      1.00\n alpha_t[2]      1.02      0.67      1.02     -0.13      2.03    600.89      1.00\n alpha_t[3]      2.99      1.06      2.88      1.29      4.61    422.72      1.00\n alpha_t[4]      2.07      0.88      1.97      0.68      3.48    611.61      1.01\n alpha_t[5]      2.12      0.81      2.09      0.70      3.31    379.04      1.00\n alpha_t[6]      2.94      1.09      2.82      1.35      4.68    352.96      1.00\n alpha_t[7]      2.09      0.88      2.02      0.73      3.48    656.97      1.01\n alpha_t[8]     -0.16      0.60     -0.14     -1.04      0.94    503.40      1.00\n alpha_t[9]      2.13      0.86      2.04      0.61      3.32    558.99      1.00\nalpha_t[10]      1.05      0.78      1.02     -0.35      2.21    545.96      1.00\nalpha_t[11]      0.58      0.62      0.56     -0.42      1.60    471.53      1.00\nalpha_t[12]      1.04      0.65      0.99      0.02      2.09    318.40      1.00\nalpha_t[13]      0.25      0.61      0.29     -0.66      1.30    721.74      1.01\nalpha_t[14]      2.04      0.79      2.00      0.85      3.36    610.76      1.00\nalpha_t[15]      2.12      0.86      2.09      0.74      3.48    560.55      1.00\nalpha_t[16]      2.89      0.83      2.80      1.50      4.04    559.03      1.00\nalpha_t[17]      2.37      0.63      2.30      1.40      3.38    670.64      1.00\nalpha_t[18]      1.97      0.53      1.90      1.08      2.74    564.57      1.00\nalpha_t[19]      3.53      0.91      3.40      2.09      4.84    503.54      1.00\nalpha_t[20]      2.38      0.68      2.33      1.35      3.46    377.65      1.00\nalpha_t[21]      2.39      0.65      2.35      1.48      3.52    377.92      1.00\nalpha_t[22]      2.33      0.64      2.30      1.24      3.26    572.98      1.00\nalpha_t[23]      1.71      0.51      1.69      0.91      2.59    979.71      1.00\nalpha_t[24]     -1.00      0.46     -0.99     -1.78     -0.28    550.42      1.00\nalpha_t[25]      0.18      0.45      0.18     -0.59      0.85    532.29      1.00\nalpha_t[26]     -1.41      0.48     -1.37     -2.15     -0.63    662.69      1.00\nalpha_t[27]     -0.45      0.40     -0.43     -1.10      0.15    579.90      1.00\nalpha_t[28]      0.17      0.38      0.19     -0.49      0.75    454.09      1.00\nalpha_t[29]      1.46      0.49      1.42      0.77      2.33    692.83      1.00\nalpha_t[30]     -0.65      0.44     -0.66     -1.39      0.02    552.13      1.00\nalpha_t[31]     -0.30      0.41     -0.29     -0.98      0.34    511.13      1.00\nalpha_t[32]      3.14      0.76      3.07      2.00      4.35    498.69      1.00\nalpha_t[33]      2.67      0.64      2.65      1.55      3.58    701.97      1.01\nalpha_t[34]      2.67      0.62      2.66      1.62      3.66    704.14      1.00\nalpha_t[35]      2.05      0.48      2.01      1.23      2.78    780.36      1.00\nalpha_t[36]      2.03      0.49      2.00      1.28      2.81    793.38      1.00\nalpha_t[37]      3.84      0.93      3.79      2.31      5.27    499.71      1.00\nalpha_t[38]      2.65      0.61      2.58      1.66      3.58    783.18      1.00\nalpha_t[39]      2.39      0.59      2.38      1.47      3.34    441.25      1.00\nalpha_t[40]     -1.79      0.50     -1.78     -2.63     -1.04    431.25      1.00\nalpha_t[41]     -0.59      0.35     -0.58     -1.24     -0.09    467.11      1.00\nalpha_t[42]     -0.44      0.38     -0.45     -1.07      0.18    604.19      1.00\nalpha_t[43]     -0.34      0.35     -0.33     -0.87      0.25    616.49      1.00\nalpha_t[44]      0.57      0.35      0.55     -0.01      1.14    683.42      1.00\nalpha_t[45]     -0.58      0.33     -0.57     -1.24     -0.13    623.85      1.00\nalpha_t[46]      2.04      0.47      2.03      1.36      2.84    668.92      1.00\nalpha_t[47]     -0.01      0.35      0.00     -0.56      0.54    893.39      1.00\n      sigma      2.42      0.57      2.31      1.60      3.36    393.80      1.00\n\nNumber of divergences: 0\n"
     ]
    }
   ],
   "source": [
    "mcmc.print_summary()"
   ]
  },
  {
   "cell_type": "code",
   "execution_count": null,
   "metadata": {},
   "outputs": [],
   "source": []
  }
 ],
 "metadata": {
  "kernelspec": {
   "name": "python3",
   "display_name": "Python 3.8.10 64-bit"
  },
  "language_info": {
   "codemirror_mode": {
    "name": "ipython",
    "version": 2
   },
   "file_extension": ".py",
   "mimetype": "text/x-python",
   "name": "python",
   "nbconvert_exporter": "python",
   "pygments_lexer": "ipython2",
   "version": "3.8.10"
  },
  "interpreter": {
   "hash": "916dbcbb3f70747c44a77c7bcd40155683ae19c65e1c03b4aa3499c5328201f1"
  }
 },
 "nbformat": 4,
 "nbformat_minor": 0
}