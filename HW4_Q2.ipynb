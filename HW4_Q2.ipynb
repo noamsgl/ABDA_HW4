{
 "cells": [
  {
   "cell_type": "code",
   "execution_count": null,
   "metadata": {
    "collapsed": true
   },
   "outputs": [],
   "source": [
    "import pandas as pd\n",
    "import pyro\n",
    "import pyro.distributions as dist\n",
    "from pyro.infer import MCMC, NUTS \n",
    "import seaborn as sns\n",
    "import torch\n",
    "from torch import tensor"
   ]
  },
  {
   "source": [
    "# Problem 2: Reed Frogs\n",
    "\n",
    "The common reed frog is a species of frogs found naturally in many parts of Africa. \n",
    "\n",
    "In this assignment, we check, evaluate and compare three models which rely on tank density, frog size and predation to predict frog survivability. ![common Reed Frog](https://upload.wikimedia.org/wikipedia/commons/3/36/Tree_frog_congo.jpg)\t\n"
   ],
   "cell_type": "markdown",
   "metadata": {
    "collapsed": false,
    "pycharm": {
     "name": "#%%\n"
    }
   }
  },
  {
   "cell_type": "code",
   "execution_count": null,
   "outputs": [],
   "source": [
    "df = pd.read_csv('input/04reedfrogs.csv')\n"
   ],
   "metadata": {
    "collapsed": false,
    "pycharm": {
     "name": "#%%\n"
    }
   }
  },
  {
   "cell_type": "code",
   "execution_count": null,
   "metadata": {},
   "outputs": [],
   "source": [
    "# categorize values\n",
    "df[\"cdensity\"] = pd.factorize(df.density)[0]\n",
    "df[\"cpred\"] = pd.factorize(df.pred)[0]\n",
    "df[\"csize\"] = pd.factorize(df[\"size\"])[0]\n",
    "df.head(10)"
   ]
  },
  {
   "source": [
    "## Effect of Predation\n",
    "It is easily visible that predation has a large effect on the frogs' survivability:"
   ],
   "cell_type": "markdown",
   "metadata": {}
  },
  {
   "cell_type": "code",
   "execution_count": null,
   "metadata": {},
   "outputs": [],
   "source": [
    "sns.histplot(data=df, x=\"propsurv\", hue=\"pred\", bins=30);"
   ]
  },
  {
   "source": [
    "## Defining the Models\n",
    "`reedfrogs_lin` is the generalized linear regression model. `reedfrogs_hier5` is the hierarchical model from lecture 5 based on population only. `reedfrogs_hier6` is the hierarchical model from lecture 6 based on population size and predation."
   ],
   "cell_type": "markdown",
   "metadata": {}
  },
  {
   "cell_type": "code",
   "execution_count": 7,
   "metadata": {},
   "outputs": [],
   "source": [
    "def reedfrogs_hier5(density, survival):\n",
    "    N = len(density)\n",
    "    sigma = pyro.sample(\"sigma\", dist.Exponential(tensor([1.])))\n",
    "    alpha_0 = pyro.sample(\"alpha_0\", dist.Normal(tensor([0.]), tensor([1.5])))\n",
    "    alpha_t = pyro.sample(\"alpha_t\", dist.MultivariateNormal(torch.full([N], alpha_0.item()), sigma.item() * torch.eye(N)))\n",
    "\n",
    "    for i in pyro.plate('data_loop', len(density)):\n",
    "        alpha = alpha_t[i]\n",
    "        p = torch.sigmoid(alpha)\n",
    "        pyro.sample(f\"survival_{i}\", dist.Binomial(density[i], p), obs=survival[i])"
   ]
  },
  {
   "cell_type": "code",
   "execution_count": null,
   "metadata": {
    "tags": []
   },
   "outputs": [],
   "source": [
    "# todo: why is this so slow?\n",
    "nuts_kernel = NUTS(reedfrogs_hier5, adapt_step_size=True)\n",
    "mcmc = MCMC(nuts_kernel, num_samples=500, warmup_steps=300)\n",
    "mcmc.run(tensor(df.density), tensor(df.surv))\n",
    "mcmc.get_samples()"
   ]
  },
  {
   "cell_type": "code",
   "execution_count": null,
   "metadata": {},
   "outputs": [],
   "source": [
    "tensor(df.density)"
   ]
  },
  {
   "cell_type": "code",
   "execution_count": null,
   "metadata": {},
   "outputs": [],
   "source": []
  }
 ],
 "metadata": {
  "kernelspec": {
   "name": "python3",
   "display_name": "Python 3.6.8 64-bit ('ds')"
  },
  "language_info": {
   "codemirror_mode": {
    "name": "ipython",
    "version": 2
   },
   "file_extension": ".py",
   "mimetype": "text/x-python",
   "name": "python",
   "nbconvert_exporter": "python",
   "pygments_lexer": "ipython2",
   "version": "3.6.8"
  },
  "interpreter": {
   "hash": "c349679316bb414a392cfe4d811b43ca5b6f927e887071101c1c1d3969fa6af0"
  }
 },
 "nbformat": 4,
 "nbformat_minor": 0
}